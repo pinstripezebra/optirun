{
 "cells": [
  {
   "cell_type": "code",
   "execution_count": 8,
   "metadata": {},
   "outputs": [
    {
     "data": {
      "text/plain": [
       "True"
      ]
     },
     "execution_count": 8,
     "metadata": {},
     "output_type": "execute_result"
    }
   ],
   "source": [
    "import psycopg2\n",
    "from dotenv import find_dotenv, load_dotenv\n",
    "import os\n",
    "\n",
    "# loading environmental variables\n",
    "dotenv_path = find_dotenv()\n",
    "load_dotenv(dotenv_path)"
   ]
  },
  {
   "cell_type": "markdown",
   "metadata": {},
   "source": [
    "### Creating Users Table"
   ]
  },
  {
   "cell_type": "code",
   "execution_count": 9,
   "metadata": {},
   "outputs": [
    {
     "ename": "DuplicateTable",
     "evalue": "relation \"users\" already exists\n",
     "output_type": "error",
     "traceback": [
      "\u001b[1;31m---------------------------------------------------------------------------\u001b[0m",
      "\u001b[1;31mDuplicateTable\u001b[0m                            Traceback (most recent call last)",
      "Cell \u001b[1;32mIn[9], line 6\u001b[0m\n\u001b[0;32m      3\u001b[0m cursor \u001b[38;5;241m=\u001b[39m conn\u001b[38;5;241m.\u001b[39mcursor()\n\u001b[0;32m      5\u001b[0m \u001b[38;5;66;03m# Execute a query\u001b[39;00m\n\u001b[1;32m----> 6\u001b[0m \u001b[43mcursor\u001b[49m\u001b[38;5;241;43m.\u001b[39;49m\u001b[43mexecute\u001b[49m\u001b[43m(\u001b[49m\u001b[38;5;124;43m\"\"\"\u001b[39;49m\u001b[38;5;124;43mCREATE TABLE users (\u001b[39;49m\n\u001b[0;32m      7\u001b[0m \u001b[38;5;124;43m\tusername varchar(255),\u001b[39;49m\n\u001b[0;32m      8\u001b[0m \u001b[38;5;124;43m\tpassword varchar(255),\u001b[39;49m\n\u001b[0;32m      9\u001b[0m \u001b[38;5;124;43m\tlatitude varchar(255),\u001b[39;49m\n\u001b[0;32m     10\u001b[0m \u001b[38;5;124;43m\tlongitude varchar(255),\u001b[39;49m\n\u001b[0;32m     11\u001b[0m \u001b[38;5;124;43m\tadmin_status int\u001b[39;49m\n\u001b[0;32m     12\u001b[0m \u001b[38;5;124;43m)\u001b[39;49m\u001b[38;5;124;43m\"\"\"\u001b[39;49m\u001b[43m)\u001b[49m\n\u001b[0;32m     14\u001b[0m conn\u001b[38;5;241m.\u001b[39mcommit()\n\u001b[0;32m     15\u001b[0m \u001b[38;5;66;03m# Close the cursor and connection\u001b[39;00m\n\u001b[0;32m     16\u001b[0m \u001b[38;5;66;03m#cursor.commit()\u001b[39;00m\n",
      "\u001b[1;31mDuplicateTable\u001b[0m: relation \"users\" already exists\n"
     ]
    }
   ],
   "source": [
    "conn = psycopg2.connect(os.environ.get(\"POST_DB_LINK\"), sslmode='require')\n",
    "# Create a cursor object\n",
    "cursor = conn.cursor()\n",
    "\n",
    "# Execute a query\n",
    "cursor.execute(\"\"\"CREATE TABLE users (\n",
    "\tusername varchar(255),\n",
    "\tpassword varchar(255),\n",
    "\tlatitude varchar(255),\n",
    "\tlongitude varchar(255),\n",
    "\tadmin_status int\n",
    ")\"\"\")\n",
    "\n",
    "conn.commit()\n",
    "# Close the cursor and connection\n",
    "#cursor.commit()\n",
    "cursor.close()\n",
    "conn.close()"
   ]
  },
  {
   "cell_type": "markdown",
   "metadata": {},
   "source": [
    "### Adding User"
   ]
  },
  {
   "cell_type": "code",
   "execution_count": 12,
   "metadata": {},
   "outputs": [],
   "source": [
    "conn = psycopg2.connect(os.environ.get(\"POST_DB_LINK\"), sslmode='require')\n",
    "# Create a cursor object\n",
    "cursor = conn.cursor()\n",
    "\n",
    "# Execute a query\n",
    "cursor.execute(\"\"\"INSERT INTO users (username, password, latitude, longitude,admin_status)\n",
    "VALUES ('lucas', 'cats12_3', '43.5152', '-122.6784', 1);\"\"\")\n",
    "\n",
    "conn.commit()\n",
    "# Close the cursor and connection\n",
    "#cursor.commit()\n",
    "cursor.close()\n",
    "conn.close()"
   ]
  },
  {
   "cell_type": "markdown",
   "metadata": {},
   "source": [
    "### Pulling Data"
   ]
  },
  {
   "cell_type": "code",
   "execution_count": 13,
   "metadata": {},
   "outputs": [
    {
     "name": "stdout",
     "output_type": "stream",
     "text": [
      "('lucas', 'cats12_3', '43.5152', '-122.6784', 1)\n",
      "[('lucas', 'cats12_3', '43.5152', '-122.6784', 1)]\n"
     ]
    }
   ],
   "source": [
    "# loading environmental variables\n",
    "dotenv_path = find_dotenv()\n",
    "load_dotenv(dotenv_path)\n",
    "\n",
    "conn = psycopg2.connect(os.environ.get(\"POST_DB_LINK\"), sslmode='require')\n",
    "# Create a cursor object\n",
    "cursor = conn.cursor()\n",
    "\n",
    "# Execute a query\n",
    "cursor.execute(\"SELECT * FROM users\")\n",
    "results = cursor.fetchall()\n",
    "\n",
    "# Print the results\n",
    "for row in results:\n",
    "    print(row)\n",
    "\n",
    "# Close the cursor and connection\n",
    "cursor.close()\n",
    "conn.close()\n",
    "print(results)"
   ]
  },
  {
   "cell_type": "code",
   "execution_count": 16,
   "metadata": {},
   "outputs": [
    {
     "name": "stdout",
     "output_type": "stream",
     "text": [
      "('lucas', 'cats12_3', '43.5152', '-122.6784', 1)\n",
      "[('lucas', 'cats12_3', '43.5152', '-122.6784', 1)]\n"
     ]
    }
   ],
   "source": [
    "# loading environmental variables\n",
    "dotenv_path = find_dotenv()\n",
    "load_dotenv(dotenv_path)\n",
    "\n",
    "conn = psycopg2.connect(os.environ.get(\"POST_DB_LINK\"), sslmode='require')\n",
    "# Create a cursor object\n",
    "cursor = conn.cursor()\n",
    "\n",
    "# Execute a query\n",
    "cursor.execute(\"\"\"SELECT username\n",
    "      ,password\n",
    "      ,latitude\n",
    "      ,longitude\n",
    "      ,admin_status\n",
    "  FROM users\n",
    "  WHERE username = 'lucas'\"\"\")\n",
    "results = cursor.fetchall()\n",
    "\n",
    "# Print the results\n",
    "for row in results:\n",
    "    print(row)\n",
    "\n",
    "# Close the cursor and connection\n",
    "cursor.close()\n",
    "conn.close()\n",
    "print(results)"
   ]
  }
 ],
 "metadata": {
  "kernelspec": {
   "display_name": ".venv",
   "language": "python",
   "name": "python3"
  },
  "language_info": {
   "codemirror_mode": {
    "name": "ipython",
    "version": 3
   },
   "file_extension": ".py",
   "mimetype": "text/x-python",
   "name": "python",
   "nbconvert_exporter": "python",
   "pygments_lexer": "ipython3",
   "version": "3.12.5"
  }
 },
 "nbformat": 4,
 "nbformat_minor": 2
}
