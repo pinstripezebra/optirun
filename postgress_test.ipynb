{
 "cells": [
  {
   "cell_type": "code",
   "execution_count": 23,
   "metadata": {},
   "outputs": [
    {
     "data": {
      "text/plain": [
       "True"
      ]
     },
     "execution_count": 23,
     "metadata": {},
     "output_type": "execute_result"
    }
   ],
   "source": [
    "import psycopg2\n",
    "from dotenv import find_dotenv, load_dotenv\n",
    "import os\n",
    "\n",
    "# loading environmental variables\n",
    "dotenv_path = find_dotenv()\n",
    "load_dotenv(dotenv_path)"
   ]
  },
  {
   "cell_type": "markdown",
   "metadata": {},
   "source": [
    "### Deleting Table if Needed"
   ]
  },
  {
   "cell_type": "code",
   "execution_count": 24,
   "metadata": {},
   "outputs": [],
   "source": [
    "query = '''DROP TABLE users'''\n",
    "\n",
    "conn = psycopg2.connect(os.environ.get(\"POST_DB_LINK\"), sslmode='require')\n",
    "\n",
    "# Create a cursor object\n",
    "cursor = conn.cursor()\n",
    "cursor.execute(query)\n",
    "\n",
    "conn.commit()\n",
    "# Close the cursor and connection\n",
    "#cursor.commit()\n",
    "cursor.close()\n",
    "conn.close()\n"
   ]
  },
  {
   "cell_type": "markdown",
   "metadata": {},
   "source": [
    "### Creating Users Table"
   ]
  },
  {
   "cell_type": "code",
   "execution_count": 25,
   "metadata": {},
   "outputs": [],
   "source": [
    "conn = psycopg2.connect(os.environ.get(\"POST_DB_LINK\"), sslmode='require')\n",
    "# Create a cursor object\n",
    "cursor = conn.cursor()\n",
    "\n",
    "# Execute a query\n",
    "cursor.execute(\"\"\"CREATE TABLE users (\n",
    "\tusername varchar(255),\n",
    "\tpassword varchar(255),\n",
    "\tlatitude varchar(255),\n",
    "\tlongitude varchar(255),\n",
    "    temperature varchar(255),\n",
    "\train varchar(255),\n",
    "\twind varchar(255),\n",
    "    cloud varchar(255),\n",
    "\tadmin_status int\n",
    ")\"\"\")\n",
    "\n",
    "conn.commit()\n",
    "# Close the cursor and connection\n",
    "#cursor.commit()\n",
    "cursor.close()\n",
    "conn.close()"
   ]
  },
  {
   "cell_type": "markdown",
   "metadata": {},
   "source": [
    "### Adding User"
   ]
  },
  {
   "cell_type": "code",
   "execution_count": 26,
   "metadata": {},
   "outputs": [],
   "source": [
    "conn = psycopg2.connect(os.environ.get(\"POST_DB_LINK\"), sslmode='require')\n",
    "# Create a cursor object\n",
    "cursor = conn.cursor()\n",
    "\n",
    "# Execute a query\n",
    "cursor.execute(\"\"\"INSERT INTO users (username, password, latitude, longitude,temperature, rain, cloud, wind, admin_status)\n",
    "VALUES ('lucas', 'cats12_3', '43.5152', '-122.6784', 60, 0.1, 0.1, 0.1, 1);\"\"\")\n",
    "\n",
    "conn.commit()\n",
    "# Close the cursor and connection\n",
    "#cursor.commit()\n",
    "cursor.close()\n",
    "conn.close()"
   ]
  },
  {
   "cell_type": "markdown",
   "metadata": {},
   "source": [
    "### Pulling Data"
   ]
  },
  {
   "cell_type": "code",
   "execution_count": 27,
   "metadata": {},
   "outputs": [
    {
     "name": "stdout",
     "output_type": "stream",
     "text": [
      "('lucas', 'cats12_3', '43.5152', '-122.6784', '60', '0.1', '0.1', '0.1', 1)\n",
      "[('lucas', 'cats12_3', '43.5152', '-122.6784', '60', '0.1', '0.1', '0.1', 1)]\n"
     ]
    }
   ],
   "source": [
    "# loading environmental variables\n",
    "dotenv_path = find_dotenv()\n",
    "load_dotenv(dotenv_path)\n",
    "\n",
    "conn = psycopg2.connect(os.environ.get(\"POST_DB_LINK\"), sslmode='require')\n",
    "# Create a cursor object\n",
    "cursor = conn.cursor()\n",
    "\n",
    "# Execute a query\n",
    "cursor.execute(\"SELECT * FROM users\")\n",
    "results = cursor.fetchall()\n",
    "\n",
    "# Print the results\n",
    "for row in results:\n",
    "    print(row)\n",
    "\n",
    "# Close the cursor and connection\n",
    "cursor.close()\n",
    "conn.close()\n",
    "print(results)"
   ]
  },
  {
   "cell_type": "code",
   "execution_count": 28,
   "metadata": {},
   "outputs": [
    {
     "name": "stdout",
     "output_type": "stream",
     "text": [
      "[]\n"
     ]
    }
   ],
   "source": [
    "# loading environmental variables\n",
    "dotenv_path = find_dotenv()\n",
    "load_dotenv(dotenv_path)\n",
    "\n",
    "conn = psycopg2.connect(os.environ.get(\"POST_DB_LINK\"), sslmode='require')\n",
    "# Create a cursor object\n",
    "cursor = conn.cursor()\n",
    "\n",
    "# Execute a query\n",
    "cursor.execute(\"\"\"SELECT *\n",
    "  FROM users\n",
    "  WHERE username = 'lucas_test'\"\"\")\n",
    "results = cursor.fetchall()\n",
    "\n",
    "# Print the results\n",
    "for row in results:\n",
    "    print(row)\n",
    "\n",
    "# Close the cursor and connection\n",
    "cursor.close()\n",
    "conn.close()\n",
    "print(results)"
   ]
  },
  {
   "cell_type": "code",
   "execution_count": 5,
   "metadata": {},
   "outputs": [
    {
     "name": "stdout",
     "output_type": "stream",
     "text": [
      "National Forest Development Road 3827, Lane County, Oregon, United States\n",
      "\n"
     ]
    }
   ],
   "source": [
    "from geopy.geocoders import Nominatim\n",
    "\n",
    "def get_city(latitude, longitude):\n",
    "    geolocator = Nominatim(user_agent=\"my_geocoder\")\n",
    "    location = geolocator.reverse((latitude, longitude), exactly_one=True)\n",
    "    print(location)\n",
    "    if location:\n",
    "        address = location.raw['address']\n",
    "        city = address.get('city', '')\n",
    "        return city\n",
    "    return None\n",
    "\n",
    "latitude = 43.5152\n",
    "longitude = -122.6784\n",
    "city = get_city(latitude, longitude)\n",
    "print(city)"
   ]
  }
 ],
 "metadata": {
  "kernelspec": {
   "display_name": ".venv",
   "language": "python",
   "name": "python3"
  },
  "language_info": {
   "codemirror_mode": {
    "name": "ipython",
    "version": 3
   },
   "file_extension": ".py",
   "mimetype": "text/x-python",
   "name": "python",
   "nbconvert_exporter": "python",
   "pygments_lexer": "ipython3",
   "version": "3.12.5"
  }
 },
 "nbformat": 4,
 "nbformat_minor": 2
}
